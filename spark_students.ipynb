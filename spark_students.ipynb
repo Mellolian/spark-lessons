{
 "cells": [
  {
   "cell_type": "code",
   "execution_count": 1,
   "metadata": {},
   "outputs": [],
   "source": [
    "from pyspark.sql import SparkSession\n",
    "\n",
    "spark = SparkSession.builder\\\n",
    "        .master(\"local[*]\")\\\n",
    "        .appName('PySpark_Tutorial')\\\n",
    "        .getOrCreate()"
   ]
  },
  {
   "cell_type": "code",
   "execution_count": 2,
   "metadata": {},
   "outputs": [
    {
     "name": "stdout",
     "output_type": "stream",
     "text": [
      "+------+--------------+---------------------------+------------+-----------------------+----------+-------------+-------------+\n",
      "|gender|race/ethnicity|parental level of education|       lunch|test preparation course|math score|reading score|writing score|\n",
      "+------+--------------+---------------------------+------------+-----------------------+----------+-------------+-------------+\n",
      "|female|       group B|          bachelor's degree|    standard|                   none|        72|           72|           74|\n",
      "|female|       group C|               some college|    standard|              completed|        69|           90|           88|\n",
      "|female|       group B|            master's degree|    standard|                   none|        90|           95|           93|\n",
      "|  male|       group A|         associate's degree|free/reduced|                   none|        47|           57|           44|\n",
      "|  male|       group C|               some college|    standard|                   none|        76|           78|           75|\n",
      "|female|       group B|         associate's degree|    standard|                   none|        71|           83|           78|\n",
      "|female|       group B|               some college|    standard|              completed|        88|           95|           92|\n",
      "|  male|       group B|               some college|free/reduced|                   none|        40|           43|           39|\n",
      "|  male|       group D|                high school|free/reduced|              completed|        64|           64|           67|\n",
      "|female|       group B|                high school|free/reduced|                   none|        38|           60|           50|\n",
      "|  male|       group C|         associate's degree|    standard|                   none|        58|           54|           52|\n",
      "|  male|       group D|         associate's degree|    standard|                   none|        40|           52|           43|\n",
      "|female|       group B|                high school|    standard|                   none|        65|           81|           73|\n",
      "|  male|       group A|               some college|    standard|              completed|        78|           72|           70|\n",
      "|female|       group A|            master's degree|    standard|                   none|        50|           53|           58|\n",
      "|female|       group C|           some high school|    standard|                   none|        69|           75|           78|\n",
      "|  male|       group C|                high school|    standard|                   none|        88|           89|           86|\n",
      "|female|       group B|           some high school|free/reduced|                   none|        18|           32|           28|\n",
      "|  male|       group C|            master's degree|free/reduced|              completed|        46|           42|           46|\n",
      "|female|       group C|         associate's degree|free/reduced|                   none|        54|           58|           61|\n",
      "+------+--------------+---------------------------+------------+-----------------------+----------+-------------+-------------+\n",
      "only showing top 20 rows\n",
      "\n"
     ]
    }
   ],
   "source": [
    "from pyspark.sql.types import *\n",
    "from pyspark.sql.functions import concat, col, udf\n",
    "data_schema = [\n",
    "               \n",
    "               StructField('gender', StringType(), True),\n",
    "               StructField('race/ethnicity', StringType(), True),\n",
    "               StructField('parental level of education', StringType(), True),\n",
    "               StructField('lunch', StringType(), True),\n",
    "               StructField('test preparation course', StringType(), True),\n",
    "               StructField('math score', IntegerType(), True),\n",
    "               StructField('reading score', IntegerType(), True),\n",
    "               StructField('writing score', IntegerType(), True),\n",
    "            ]\n",
    "final_struct = StructType(fields = data_schema)\n",
    "data = spark.read.csv(\n",
    "    'StudentsPerformance.csv',\n",
    "    sep=',',\n",
    "    header=True,\n",
    "    schema=final_struct\n",
    ")\n",
    "\n",
    "data.show()"
   ]
  },
  {
   "cell_type": "code",
   "execution_count": 3,
   "metadata": {},
   "outputs": [
    {
     "name": "stdout",
     "output_type": "stream",
     "text": [
      "+--------------+---------------+-----------------+------------------+------------------+\n",
      "|          type|          level|  avg(math score)|avg(reading score)|avg(writing score)|\n",
      "+--------------+---------------+-----------------+------------------+------------------+\n",
      "|  group E male|master's degree|             90.0|              85.0|              84.0|\n",
      "|group E female|master's degree|72.42857142857143| 81.71428571428571|              80.0|\n",
      "|  group D male|master's degree|           83.625|            81.375|             81.25|\n",
      "|group D female|master's degree|             66.6| 74.93333333333334| 78.93333333333334|\n",
      "|  group C male|master's degree|             70.0|             68.25| 67.66666666666667|\n",
      "|group C female|master's degree|             62.0| 74.42857142857143| 72.71428571428571|\n",
      "|  group B male|master's degree|             49.0|              53.0|              52.0|\n",
      "|group B female|master's degree|             70.8|              85.6|              82.2|\n",
      "|  group A male|master's degree|             73.0|              74.0|              72.0|\n",
      "|group A female|master's degree|             50.0|              60.0|              65.5|\n",
      "+--------------+---------------+-----------------+------------------+------------------+\n",
      "\n"
     ]
    }
   ],
   "source": [
    "udf_space = udf(lambda x: x + ' ' ,StringType() )\n",
    "\n",
    "df = data.withColumnRenamed('race/ethnicity', 'race').withColumnRenamed('parental level of education', 'level').withColumn('race', udf_space('race'))\n",
    "df = df.withColumn('type', concat(df.race,df.gender).alias('type'))\n",
    "df = df.filter(col('level') == \"master's degree\")\n",
    "df = df.select(['type', 'level','math score', 'reading score', 'writing score']).groupBy('type', 'level').mean()\n",
    "df = df.sort(df.type.desc())\n",
    "df.show()\n"
   ]
  },
  {
   "cell_type": "code",
   "execution_count": null,
   "metadata": {},
   "outputs": [],
   "source": [
    "\n"
   ]
  },
  {
   "cell_type": "code",
   "execution_count": 4,
   "metadata": {},
   "outputs": [],
   "source": [
    "from matplotlib import pyplot as plt"
   ]
  },
  {
   "cell_type": "code",
   "execution_count": null,
   "metadata": {},
   "outputs": [],
   "source": [
    "\n"
   ]
  },
  {
   "cell_type": "code",
   "execution_count": 5,
   "metadata": {},
   "outputs": [
    {
     "data": {
      "image/png": "[encoded data removed]",
      "text/plain": [
       "<Figure size 864x864 with 1 Axes>"
      ]
     },
     "metadata": {
      "needs_background": "light"
     },
     "output_type": "display_data"
    }
   ],
   "source": [
    "df2_for_plot = df.toPandas()\n",
    "df2_for_plot.plot(kind='barh', x='type', y=df2_for_plot.columns.tolist()[2:], figsize=(12, 12), ylabel='scores', xlabel='type')\n",
    "plt.show()"
   ]
  }
 ],
 "metadata": {
  "interpreter": {
   "hash": "63fd5069d213b44bf678585dea6b12cceca9941eaf7f819626cde1f2670de90d"
  },
  "kernelspec": {
   "display_name": "Python 3.9.5 64-bit",
   "language": "python",
   "name": "python3"
  },
  "language_info": {
   "codemirror_mode": {
    "name": "ipython",
    "version": 3
   },
   "file_extension": ".py",
   "mimetype": "text/x-python",
   "name": "python",
   "nbconvert_exporter": "python",
   "pygments_lexer": "ipython3",
   "version": "3.9.5"
  },
  "orig_nbformat": 4
 },
 "nbformat": 4,
 "nbformat_minor": 2
}
